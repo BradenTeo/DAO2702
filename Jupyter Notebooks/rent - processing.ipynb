{
 "cells": [
  {
   "cell_type": "markdown",
   "id": "aace03e0",
   "metadata": {},
   "source": [
    "To get the latitudes and longitudes of the rental locations, such that we can plot them on a graph later, we use the <code>geopy API</code> python module.\n",
    "\n",
    "This file is run after editing the property names in the <code>final_rent.csv</code> file such that the <code>geopy API</code> can properly identify the areas. The edited file is saved as <code>edited_rent.csv</code>. \n",
    "\n",
    "NOTE: DO NOT EDIT THE <CODE>EDITED_RENT.CSV</CODE>\n",
    "\n",
    "Note: We chose to not use the <code>Google Map API</code>, despite it being more powerful, as it is not a free service."
   ]
  },
  {
   "cell_type": "code",
   "execution_count": 1,
   "id": "9e365e3b",
   "metadata": {},
   "outputs": [],
   "source": [
    "import numpy as np\n",
    "import pandas as pd\n",
    "import matplotlib.pyplot as plt\n",
    "\n",
    "from geopy.geocoders import Nominatim"
   ]
  },
  {
   "cell_type": "code",
   "execution_count": 2,
   "id": "f70f7810",
   "metadata": {},
   "outputs": [
    {
     "data": {
      "text/html": [
       "<div>\n",
       "<style scoped>\n",
       "    .dataframe tbody tr th:only-of-type {\n",
       "        vertical-align: middle;\n",
       "    }\n",
       "\n",
       "    .dataframe tbody tr th {\n",
       "        vertical-align: top;\n",
       "    }\n",
       "\n",
       "    .dataframe thead th {\n",
       "        text-align: right;\n",
       "    }\n",
       "</style>\n",
       "<table border=\"1\" class=\"dataframe\">\n",
       "  <thead>\n",
       "    <tr style=\"text-align: right;\">\n",
       "      <th></th>\n",
       "      <th>Unnamed: 0</th>\n",
       "      <th>property_name</th>\n",
       "      <th>area (sqft)</th>\n",
       "      <th>psf price ($/psf)</th>\n",
       "      <th>total price ($)</th>\n",
       "    </tr>\n",
       "  </thead>\n",
       "  <tbody>\n",
       "    <tr>\n",
       "      <th>0</th>\n",
       "      <td>0</td>\n",
       "      <td>Kallang Place</td>\n",
       "      <td>1952</td>\n",
       "      <td>1.90</td>\n",
       "      <td>3709</td>\n",
       "    </tr>\n",
       "    <tr>\n",
       "      <th>1</th>\n",
       "      <td>1</td>\n",
       "      <td>East Coast Road</td>\n",
       "      <td>1500</td>\n",
       "      <td>2.67</td>\n",
       "      <td>4000</td>\n",
       "    </tr>\n",
       "    <tr>\n",
       "      <th>2</th>\n",
       "      <td>2</td>\n",
       "      <td>East Coast Road</td>\n",
       "      <td>1500</td>\n",
       "      <td>2.67</td>\n",
       "      <td>4000</td>\n",
       "    </tr>\n",
       "    <tr>\n",
       "      <th>3</th>\n",
       "      <td>3</td>\n",
       "      <td>Eng Kong Park</td>\n",
       "      <td>1500</td>\n",
       "      <td>2.80</td>\n",
       "      <td>4200</td>\n",
       "    </tr>\n",
       "    <tr>\n",
       "      <th>4</th>\n",
       "      <td>4</td>\n",
       "      <td>Jurong West Street 41</td>\n",
       "      <td>1700</td>\n",
       "      <td>2.94</td>\n",
       "      <td>5000</td>\n",
       "    </tr>\n",
       "    <tr>\n",
       "      <th>...</th>\n",
       "      <td>...</td>\n",
       "      <td>...</td>\n",
       "      <td>...</td>\n",
       "      <td>...</td>\n",
       "      <td>...</td>\n",
       "    </tr>\n",
       "    <tr>\n",
       "      <th>138</th>\n",
       "      <td>138</td>\n",
       "      <td>Bukit Pasoh</td>\n",
       "      <td>1700</td>\n",
       "      <td>14.71</td>\n",
       "      <td>25000</td>\n",
       "    </tr>\n",
       "    <tr>\n",
       "      <th>139</th>\n",
       "      <td>139</td>\n",
       "      <td>Telok Ayer</td>\n",
       "      <td>1645</td>\n",
       "      <td>15.81</td>\n",
       "      <td>26000</td>\n",
       "    </tr>\n",
       "    <tr>\n",
       "      <th>140</th>\n",
       "      <td>140</td>\n",
       "      <td>Telok Ayer</td>\n",
       "      <td>1645</td>\n",
       "      <td>15.81</td>\n",
       "      <td>26000</td>\n",
       "    </tr>\n",
       "    <tr>\n",
       "      <th>141</th>\n",
       "      <td>141</td>\n",
       "      <td>Bukit Pasoh</td>\n",
       "      <td>1830</td>\n",
       "      <td>16.39</td>\n",
       "      <td>30000</td>\n",
       "    </tr>\n",
       "    <tr>\n",
       "      <th>142</th>\n",
       "      <td>142</td>\n",
       "      <td>Ang Mo Kio Avenue 8</td>\n",
       "      <td>1634</td>\n",
       "      <td>2876.38</td>\n",
       "      <td>4700000</td>\n",
       "    </tr>\n",
       "  </tbody>\n",
       "</table>\n",
       "<p>143 rows × 5 columns</p>\n",
       "</div>"
      ],
      "text/plain": [
       "     Unnamed: 0          property_name  area (sqft)  psf price ($/psf)  \\\n",
       "0             0          Kallang Place         1952               1.90   \n",
       "1             1        East Coast Road         1500               2.67   \n",
       "2             2        East Coast Road         1500               2.67   \n",
       "3             3          Eng Kong Park         1500               2.80   \n",
       "4             4  Jurong West Street 41         1700               2.94   \n",
       "..          ...                    ...          ...                ...   \n",
       "138         138            Bukit Pasoh         1700              14.71   \n",
       "139         139             Telok Ayer         1645              15.81   \n",
       "140         140             Telok Ayer         1645              15.81   \n",
       "141         141            Bukit Pasoh         1830              16.39   \n",
       "142         142    Ang Mo Kio Avenue 8         1634            2876.38   \n",
       "\n",
       "     total price ($)  \n",
       "0               3709  \n",
       "1               4000  \n",
       "2               4000  \n",
       "3               4200  \n",
       "4               5000  \n",
       "..               ...  \n",
       "138            25000  \n",
       "139            26000  \n",
       "140            26000  \n",
       "141            30000  \n",
       "142          4700000  \n",
       "\n",
       "[143 rows x 5 columns]"
      ]
     },
     "execution_count": 2,
     "metadata": {},
     "output_type": "execute_result"
    }
   ],
   "source": [
    "rent = pd.read_csv('edited_rent.csv')\n",
    "rent"
   ]
  },
  {
   "cell_type": "code",
   "execution_count": 3,
   "id": "a7e52406",
   "metadata": {
    "scrolled": false
   },
   "outputs": [
    {
     "name": "stdout",
     "output_type": "stream",
     "text": [
      "Processing...\n",
      "Processing complete, information from 143 locations extracted.\n"
     ]
    }
   ],
   "source": [
    "name = []\n",
    "latitude = []\n",
    "longitude = []\n",
    "total_price = []\n",
    "\n",
    "print('Processing...')\n",
    "\n",
    "geolocator = Nominatim(user_agent=\"geolocator\"+str(1))\n",
    "for index, row in rent.iterrows():\n",
    "    location = geolocator.geocode(row['property_name'] + \", Singapore\")\n",
    "    split_name_list = row['property_name'].split()\n",
    "    \n",
    "    if location is None:\n",
    "        location = geolocator.geocode(row['property_name'])\n",
    "        \n",
    "    if location.latitude < 1.203139 or location.latitude > 1.478409:\n",
    "        print(f\"{str(index)}. {row['property_name']} has incorrect latitude\")\n",
    "        continue\n",
    "    \n",
    "    if location.longitude < 103.598186 or location.longitude > 104.049312:\n",
    "        print(f\"{str(index)}. {row['property_name']} has incorrect longitude\")\n",
    "        continue\n",
    "        \n",
    "    name.append(row['property_name'])\n",
    "    latitude.append(location.latitude)\n",
    "    longitude.append(location.longitude)\n",
    "    total_price.append(row['total price ($)'])\n",
    "\n",
    "print(f'Processing complete, information from {str(len(latitude))} locations extracted.')"
   ]
  },
  {
   "cell_type": "code",
   "execution_count": 4,
   "id": "0d325a43",
   "metadata": {},
   "outputs": [],
   "source": [
    "df = pd.DataFrame(list(zip(name, latitude, longitude, total_price)), columns=['Name', 'Lat', 'Lon', 'Price'])\n",
    "df.to_csv(\"FINAL_RENT.csv\")"
   ]
  }
 ],
 "metadata": {
  "kernelspec": {
   "display_name": "Python 3 (ipykernel)",
   "language": "python",
   "name": "python3"
  },
  "language_info": {
   "codemirror_mode": {
    "name": "ipython",
    "version": 3
   },
   "file_extension": ".py",
   "mimetype": "text/x-python",
   "name": "python",
   "nbconvert_exporter": "python",
   "pygments_lexer": "ipython3",
   "version": "3.9.12"
  },
  "varInspector": {
   "cols": {
    "lenName": 16,
    "lenType": 16,
    "lenVar": 40
   },
   "kernels_config": {
    "python": {
     "delete_cmd_postfix": "",
     "delete_cmd_prefix": "del ",
     "library": "var_list.py",
     "varRefreshCmd": "print(var_dic_list())"
    },
    "r": {
     "delete_cmd_postfix": ") ",
     "delete_cmd_prefix": "rm(",
     "library": "var_list.r",
     "varRefreshCmd": "cat(var_dic_list()) "
    }
   },
   "types_to_exclude": [
    "module",
    "function",
    "builtin_function_or_method",
    "instance",
    "_Feature"
   ],
   "window_display": false
  }
 },
 "nbformat": 4,
 "nbformat_minor": 5
}
